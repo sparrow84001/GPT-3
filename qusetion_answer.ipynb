{
 "metadata": {
  "language_info": {
   "codemirror_mode": {
    "name": "ipython",
    "version": 3
   },
   "file_extension": ".py",
   "mimetype": "text/x-python",
   "name": "python",
   "nbconvert_exporter": "python",
   "pygments_lexer": "ipython3",
   "version": "3.8.10"
  },
  "orig_nbformat": 4,
  "kernelspec": {
   "name": "python3",
   "display_name": "Python 3.8.10 64-bit ('Tgpu': conda)"
  },
  "interpreter": {
   "hash": "6164a6e5985db2c0058ac0f11411a3db6fb58fea4711a22e7f80dc1e8b2fc156"
  }
 },
 "nbformat": 4,
 "nbformat_minor": 2,
 "cells": [
  {
   "cell_type": "code",
   "execution_count": 24,
   "metadata": {},
   "outputs": [],
   "source": [
    "import os\n",
    "import openai"
   ]
  },
  {
   "cell_type": "code",
   "execution_count": 25,
   "metadata": {},
   "outputs": [],
   "source": [
    "openai.api_key = os.getenv(\"OPENAI_API_KEY\")"
   ]
  },
  {
   "cell_type": "code",
   "execution_count": 29,
   "metadata": {},
   "outputs": [],
   "source": [
    "def gpt3(text):\n",
    "  response = openai.Completion.create(\n",
    "  engine=\"ada\",\n",
    "  prompt=text,\n",
    "      temperature=0.3,\n",
    "      max_tokens=60,\n",
    "      top_p=1,\n",
    "      frequency_penalty=0,\n",
    "      presence_penalty=0,\n",
    "  )\n",
    "  content =response.choices[0].text.split('.')\n",
    "  print(content)\n",
    "  return response.choices[0].text"
   ]
  },
  {
   "cell_type": "code",
   "execution_count": 30,
   "metadata": {},
   "outputs": [],
   "source": [
    "query='what is global warming?'"
   ]
  },
  {
   "cell_type": "code",
   "execution_count": 31,
   "metadata": {},
   "outputs": [
    {
     "output_type": "stream",
     "name": "stdout",
     "text": [
      "['”\\n\\n“Global warming is the warming of the Earth’s atmosphere and oceans', '”\\n\\n“What is the difference between global warming and global cooling?”\\n\\n“Global warming is the warming of the Earth’s atmosphere and oceans', ' Global']\n”\n\n“Global warming is the warming of the Earth’s atmosphere and oceans.”\n\n“What is the difference between global warming and global cooling?”\n\n“Global warming is the warming of the Earth’s atmosphere and oceans. Global\n"
     ]
    }
   ],
   "source": [
    "response =gpt3(query)\n",
    "print(response)"
   ]
  },
  {
   "cell_type": "code",
   "execution_count": null,
   "metadata": {},
   "outputs": [],
   "source": []
  }
 ]
}